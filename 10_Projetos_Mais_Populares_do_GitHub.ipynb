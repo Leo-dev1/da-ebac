{
  "nbformat": 4,
  "nbformat_minor": 0,
  "metadata": {
    "colab": {
      "provenance": [],
      "authorship_tag": "ABX9TyMBmyhh7GhJHaBEGKheKcv3",
      "include_colab_link": true
    },
    "kernelspec": {
      "name": "python3",
      "display_name": "Python 3"
    },
    "language_info": {
      "name": "python"
    }
  },
  "cells": [
    {
      "cell_type": "markdown",
      "metadata": {
        "id": "view-in-github",
        "colab_type": "text"
      },
      "source": [
        "<a href=\"https://colab.research.google.com/github/Leo-dev1/da-ebac/blob/main/10_Projetos_Mais_Populares_do_GitHub.ipynb\" target=\"_parent\"><img src=\"https://colab.research.google.com/assets/colab-badge.svg\" alt=\"Open In Colab\"/></a>"
      ]
    },
    {
      "cell_type": "markdown",
      "source": [
        "# **10 Projetos Mais Populares do GitHub**"
      ],
      "metadata": {
        "id": "5armVGw3Lr3O"
      }
    },
    {
      "cell_type": "code",
      "source": [],
      "metadata": {
        "id": "3svEfEl-8w6T"
      },
      "execution_count": null,
      "outputs": []
    },
    {
      "cell_type": "markdown",
      "source": [
        "* Utilize os pacotes Python requests e beautifulsoup4 para extrair os 10 projetos mais populares do GitHub. Acesse o link https://github.com/trending\n",
        "\n",
        "* Confira o arquivo robots.txt do website.\n",
        "\n",
        "* Escreva os dados extraídos no arquivo csv github.csv separado por ; no seguinte formato:"
      ],
      "metadata": {
        "id": "b67OpEWyMO4g"
      }
    },
    {
      "cell_type": "markdown",
      "source": [
        "# 1- Importando Bibliotecas"
      ],
      "metadata": {
        "id": "9DYYc4RBMm3E"
      }
    },
    {
      "cell_type": "code",
      "source": [
        "import requests\n",
        "from bs4 import BeautifulSoup\n",
        "import csv"
      ],
      "metadata": {
        "id": "MCWMSadfMvhL"
      },
      "execution_count": 1,
      "outputs": []
    },
    {
      "cell_type": "markdown",
      "source": [
        "# Verificar Arquivo robots.txt"
      ],
      "metadata": {
        "id": "VSYJhVNhNV6O"
      }
    },
    {
      "cell_type": "code",
      "source": [
        "robots_url = \"https://github.com/robots.txt\"\n",
        "\n",
        "robots_response = requests.get(robots_url)\n",
        "\n",
        "print(\"Conteudo do robots.txt:\")\n",
        "print(robots_response.text)"
      ],
      "metadata": {
        "colab": {
          "base_uri": "https://localhost:8080/"
        },
        "id": "wQb3STyFNc-W",
        "outputId": "4fb191c9-dea7-4ed6-8964-4459979eee0b"
      },
      "execution_count": 2,
      "outputs": [
        {
          "output_type": "stream",
          "name": "stdout",
          "text": [
            "Conteudo do robots.txt:\n",
            "# If you would like to crawl GitHub contact us via https://support.github.com?tags=dotcom-robots\n",
            "# We also provide an extensive API: https://docs.github.com\n",
            "User-agent: baidu\n",
            "crawl-delay: 1\n",
            "\n",
            "\n",
            "User-agent: *\n",
            "\n",
            "Disallow: /*/*/pulse\n",
            "Disallow: /*/*/projects\n",
            "Disallow: /*/*/forks\n",
            "Disallow: /*/*/issues/new\n",
            "Disallow: /*/*/issues/search\n",
            "Disallow: /*/*/commits/\n",
            "Disallow: /*/*/branches\n",
            "Disallow: /*/*/contributors\n",
            "Disallow: /*/*/tags\n",
            "Disallow: /*/*/stargazers\n",
            "Disallow: /*/*/watchers\n",
            "Disallow: /*/*/network\n",
            "Disallow: /*/*/graphs\n",
            "Disallow: /*/*/compare\n",
            "\n",
            "Disallow: /*/tree/\n",
            "Disallow: /gist/\n",
            "Disallow: /*/download\n",
            "Disallow: /*/revisions\n",
            "Disallow: /*/commits/*?author\n",
            "Disallow: /*/commits/*?path\n",
            "Disallow: /*/comments\n",
            "Disallow: /*/archive/\n",
            "Disallow: /*/blame/\n",
            "Disallow: /*/raw/\n",
            "Disallow: /*/cache/\n",
            "Disallow: /.git/\n",
            "Disallow: */.git/\n",
            "Disallow: /*.git$\n",
            "Disallow: /search/advanced\n",
            "Disallow: /search$\n",
            "Disallow: /*q=\n",
            "Disallow: /*.atom$\n",
            "\n",
            "Disallow: /ekansa/Open-Context-Data\n",
            "Disallow: /ekansa/opencontext-*\n",
            "Disallow: */tarball/\n",
            "Disallow: */zipball/\n",
            "\n",
            "Disallow: /*source=*\n",
            "Disallow: /*ref_cta=*\n",
            "Disallow: /*plan=*\n",
            "Disallow: /*return_to=*\n",
            "Disallow: /*ref_loc=*\n",
            "Disallow: /*setup_organization=*\n",
            "Disallow: /*source_repo=*\n",
            "Disallow: /*ref_page=*\n",
            "Disallow: /*source=*\n",
            "Disallow: /*referrer=*\n",
            "Disallow: /*report=*\n",
            "Disallow: /*author=*\n",
            "Disallow: /*since=*\n",
            "Disallow: /*until=*\n",
            "Disallow: /*commits?author=*\n",
            "Disallow: /*report-abuse?report=*\n",
            "Disallow: /*tab=*\n",
            "Allow: /*?tab=achievements&achievement=*\n",
            "\n",
            "Disallow: /account-login\n",
            "Disallow: /Explodingstuff/\n",
            "\n",
            "\n"
          ]
        }
      ]
    },
    {
      "cell_type": "markdown",
      "source": [
        "# Extração dos Dados Da Pagina do GitHub"
      ],
      "metadata": {
        "id": "y8EVeEthOFup"
      }
    },
    {
      "cell_type": "code",
      "source": [
        "url = \"https://github.com/trending\"\n",
        "\n",
        "response = requests.get(url)\n",
        "\n",
        "if response.status_code == 200:\n",
        "    print(\"Requisição bem-sucedida!\")\n",
        "else:\n",
        "    print(f\"Erro ao acessar a pagina. Status code: {response.status_code}\")"
      ],
      "metadata": {
        "colab": {
          "base_uri": "https://localhost:8080/"
        },
        "id": "HEh9ZXLJORMj",
        "outputId": "8495f30a-32ee-4687-b7e8-cb33e83d51c0"
      },
      "execution_count": 3,
      "outputs": [
        {
          "output_type": "stream",
          "name": "stdout",
          "text": [
            "Requisição bem-sucedida!\n"
          ]
        }
      ]
    },
    {
      "cell_type": "markdown",
      "source": [
        "# Parsear o HTML com BeaultifulSoup"
      ],
      "metadata": {
        "id": "dwVcLOHBPAqa"
      }
    },
    {
      "cell_type": "code",
      "source": [
        "if response.status_code == 200:\n",
        "    soup = BeautifulSoup(response.content, 'html.parser')\n",
        "\n",
        "\n",
        "    projects = soup.find_all('article', class_='Box-row')[:10]\n",
        "\n",
        "    data = []\n",
        "\n",
        "    for project in projects:\n",
        "\n",
        "        repo_name_tag = project.find('h2', class_='h3')\n",
        "        repo_name = repo_name_tag.text.strip().replace('\\n', '').replace(' ', '') if repo_name_tag else 'No name'\n",
        "\n",
        "\n",
        "        repo_desc_tag = project.find('p', class_='col-9 color-fg-muted my-1 pr-4')\n",
        "        repo_desc = repo_desc_tag.text.strip() if repo_desc_tag else 'No description'\n",
        "\n",
        "\n",
        "        repo_stars_tag = project.find('a', class_='Link--muted d-inline-block mr-3')\n",
        "        repo_stars = repo_stars_tag.text.strip() if repo_stars_tag else 'No stars'\n",
        "\n",
        "\n",
        "        data.append([repo_name, repo_desc, repo_stars])\n",
        "\n",
        "\n",
        "    for repo in data:\n",
        "        print(repo)\n"
      ],
      "metadata": {
        "colab": {
          "base_uri": "https://localhost:8080/"
        },
        "id": "YKxvYZauPJCP",
        "outputId": "98102d00-f418-4d79-c0ed-262817e6a301"
      },
      "execution_count": 4,
      "outputs": [
        {
          "output_type": "stream",
          "name": "stdout",
          "text": [
            "['grafana/grafana', 'The open and composable observability and data visualization platform. Visualize metrics, logs, and traces from multiple sources like Prometheus, Loki, Elasticsearch, InfluxDB, Postgres and many more.', 'No stars']\n",
            "['twbs/bootstrap', 'The most popular HTML, CSS, and JavaScript framework for developing responsive, mobile first projects on the web.', 'No stars']\n",
            "['chen08209/FlClash', 'A multi-platform proxy client based on ClashMeta,simple and easy to use, open-source and ad-free.', 'No stars']\n",
            "['aws/karpenter-provider-aws', 'Karpenter is a Kubernetes Node Autoscaler built for flexibility, performance, and simplicity.', 'No stars']\n",
            "['krahets/hello-algo', '《Hello 算法》：动画图解、一键运行的数据结构与算法教程。支持 Python, Java, C++, C, C#, JS, Go, Swift, Rust, Ruby, Kotlin, TS, Dart 代码。简体版和繁体版同步更新，English version ongoing', 'No stars']\n",
            "['electric-sql/pglite', 'Lightweight Postgres packaged as WASM into a TypeScript library for the browser, Node.js, Bun and Deno from https://electric-sql.com', 'No stars']\n",
            "['princeton-nlp/SWE-agent', 'SWE-agent takes a GitHub issue and tries to automatically fix it, using GPT-4, or your LM of choice. It solves 12.47% of bugs in the SWE-bench evaluation set and takes just 1 minute to run.', 'No stars']\n",
            "['ostris/ai-toolkit', 'Various AI scripts. Mostly Stable Diffusion stuff.', 'No stars']\n",
            "['codecrafters-io/build-your-own-x', 'Master programming by recreating your favorite technologies from scratch.', 'No stars']\n",
            "['hcengineering/platform', 'Huly — All-in-One Project Management Platform (alternative to Linear, Jira, Slack, Notion, Motion)', 'No stars']\n"
          ]
        }
      ]
    },
    {
      "cell_type": "markdown",
      "source": [
        "# Salvar os Dados em um Arquivo CSV"
      ],
      "metadata": {
        "id": "X3Fb3u6xWw2w"
      }
    },
    {
      "cell_type": "code",
      "source": [
        "import csv\n",
        "\n",
        "# Nome do arquivo CSV onde os dados serão salvos\n",
        "filename = 'github.csv'\n",
        "\n",
        "# Abrir o arquivo CSV no modo de escrita\n",
        "with open(filename, mode='w', newline='', encoding='utf-8') as file:\n",
        "    writer = csv.writer(file, delimiter=';')\n",
        "\n",
        "    # Escrever os cabeçalhos\n",
        "    writer.writerow(['Repo Name', 'Description', 'Stars'])\n",
        "\n",
        "    # Escrever as linhas de dados\n",
        "    for row in data:\n",
        "        # Verificar se cada linha tem exatamente 3 elementos antes de escrever\n",
        "        if len(row) == 3:\n",
        "            writer.writerow(row)\n",
        "        else:\n",
        "            print(f\"Erro: Linha com tamanho incorreto detectada: {row}\")\n",
        "\n",
        "print(f\"Dados extraídos e salvos com sucesso em '{filename}'\")\n"
      ],
      "metadata": {
        "colab": {
          "base_uri": "https://localhost:8080/"
        },
        "id": "csafsNexW1wf",
        "outputId": "a82c243d-ce9e-4a60-8f47-3de6460a97e8"
      },
      "execution_count": 5,
      "outputs": [
        {
          "output_type": "stream",
          "name": "stdout",
          "text": [
            "Dados extraídos e salvos com sucesso em 'github.csv'\n"
          ]
        }
      ]
    }
  ]
}